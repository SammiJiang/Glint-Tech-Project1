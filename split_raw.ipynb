{
 "cells": [
  {
   "cell_type": "code",
   "execution_count": 10,
   "id": "488216c7",
   "metadata": {},
   "outputs": [
    {
     "name": "stdout",
     "output_type": "stream",
     "text": [
      "1987897\n",
      "Each file will contain approximately 993949 lines.\n"
     ]
    }
   ],
   "source": [
    "import os\n",
    "import json\n",
    "\n",
    "# You need to add your path here\n",
    "with open(os.path.join('yelp_academic_dataset_user.json'), 'r', encoding='utf-8') as f1:\n",
    "    lines = [line.strip() for line in f1.readlines()]\n",
    "\n",
    "# Total length of the json file\n",
    "print(len(lines))\n",
    "\n",
    "# Calculating the size of each split\n",
    "size_of_split = len(lines) //2\n",
    "if len(lines) % 2 != 0:\n",
    "    size_of_split += 1\n",
    "\n",
    "print(f\"Each file will contain approximately {size_of_split} lines.\")\n",
    "\n",
    "for i in range(0, len(lines), size_of_split):\n",
    "    with open(f'yelp_academic_dataset_user_{(i // size_of_split) + 1}.json', 'w', encoding='utf-8') as file:\n",
    "        file.write('\\n'.join(lines[i:i+size_of_split]))\n",
    "\n"
   ]
  },
  {
   "cell_type": "code",
   "execution_count": null,
   "id": "0b751363",
   "metadata": {},
   "outputs": [],
   "source": []
  }
 ],
 "metadata": {
  "kernelspec": {
   "display_name": "Python 3 (ipykernel)",
   "language": "python",
   "name": "python3"
  },
  "language_info": {
   "codemirror_mode": {
    "name": "ipython",
    "version": 3
   },
   "file_extension": ".py",
   "mimetype": "text/x-python",
   "name": "python",
   "nbconvert_exporter": "python",
   "pygments_lexer": "ipython3",
   "version": "3.11.4"
  }
 },
 "nbformat": 4,
 "nbformat_minor": 5
}
